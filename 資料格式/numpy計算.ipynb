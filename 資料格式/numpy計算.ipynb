{
 "cells": [
  {
   "cell_type": "markdown",
   "metadata": {},
   "source": [
    "# NUMPY 基本運算\n"
   ]
  },
  {
   "cell_type": "markdown",
   "metadata": {},
   "source": [
    "<font  size=4 >維度相同的矩陣相加減:</font><br>\n",
    "##不同則無法相加或相減"
   ]
  },
  {
   "cell_type": "code",
   "execution_count": 18,
   "metadata": {},
   "outputs": [
    {
     "name": "stdout",
     "output_type": "stream",
     "text": [
      "a:\n",
      " [[4 5]\n",
      " [6 7]]\n",
      "b:\n",
      " [[0 1]\n",
      " [2 3]]\n",
      "c:\n",
      " [[ 4  6]\n",
      " [ 8 10]]\n",
      "d:\n",
      " [[4 4]\n",
      " [4 4]]\n"
     ]
    }
   ],
   "source": [
    "import numpy as np\n",
    "a = np.arange( 4,8 ).reshape(2,2)\n",
    "b = np.arange( 4 ).reshape(2,2)\n",
    "c = a + b\n",
    "d = a - b\n",
    "print('a:\\n',a)\n",
    "print('b:\\n',b)\n",
    "print('c:\\n',c)\n",
    "print('d:\\n',d)"
   ]
  },
  {
   "cell_type": "markdown",
   "metadata": {},
   "source": [
    "<font  size=4 >維度相同的矩陣加減常數:</font><br>"
   ]
  },
  {
   "cell_type": "code",
   "execution_count": 19,
   "metadata": {},
   "outputs": [
    {
     "name": "stdout",
     "output_type": "stream",
     "text": [
      "c:\n",
      " [[ 9 10]\n",
      " [11 12]]\n",
      "d:\n",
      " [[-1  0]\n",
      " [ 1  2]]\n"
     ]
    }
   ],
   "source": [
    "c = a + 5\n",
    "d = a - 5\n",
    "print('c:\\n',c)\n",
    "print('d:\\n',d)\n"
   ]
  },
  {
   "cell_type": "markdown",
   "metadata": {},
   "source": [
    "<font  size=4 >矩陣的相乘:</font><br>"
   ]
  },
  {
   "cell_type": "code",
   "execution_count": 21,
   "metadata": {},
   "outputs": [
    {
     "name": "stdout",
     "output_type": "stream",
     "text": [
      "c:\n",
      " [[ 0  5]\n",
      " [12 21]]\n",
      "d:\n",
      " [[10 19]\n",
      " [14 27]]\n"
     ]
    }
   ],
   "source": [
    "c = a * b     #相同位置的乘法\n",
    "d = a.dot(b)  #真實的矩陣乘法 也可寫作: a @ b\n",
    "print('c:\\n',c)  \n",
    "\n",
    "print('d:\\n',d) "
   ]
  },
  {
   "cell_type": "markdown",
   "metadata": {},
   "source": [
    "<font  size=4 >矩陣的轉置:</font><br>"
   ]
  },
  {
   "cell_type": "code",
   "execution_count": 23,
   "metadata": {},
   "outputs": [
    {
     "name": "stdout",
     "output_type": "stream",
     "text": [
      "a:\n",
      " [[4 5]\n",
      " [6 7]]\n",
      "c:\n",
      " [[4 6]\n",
      " [5 7]]\n"
     ]
    }
   ],
   "source": [
    "c = a.T\n",
    "print('a:\\n',a)\n",
    "print('c:\\n',c)"
   ]
  }
 ],
 "metadata": {
  "kernelspec": {
   "display_name": "Python 3",
   "language": "python",
   "name": "python3"
  },
  "language_info": {
   "codemirror_mode": {
    "name": "ipython",
    "version": 3
   },
   "file_extension": ".py",
   "mimetype": "text/x-python",
   "name": "python",
   "nbconvert_exporter": "python",
   "pygments_lexer": "ipython3",
   "version": "3.7.3"
  }
 },
 "nbformat": 4,
 "nbformat_minor": 2
}
