{
 "cells": [
  {
   "cell_type": "code",
   "execution_count": 29,
   "metadata": {},
   "outputs": [
    {
     "name": "stdout",
     "output_type": "stream",
     "text": [
      "   A  B\n",
      "a  7  7\n",
      "b  0  2\n",
      "c  2  5\n"
     ]
    }
   ],
   "source": [
    "import pandas as pd #載入Pandas\n",
    "import numpy as np #載入Numpy\n",
    "pandas1=pd.DataFrame(np.random.randint(0,9,(3,2)),index=['a','b','c'],columns=['A','B']) #設定一個DataFrame\n",
    "print(pandas1)"
   ]
  },
  {
   "cell_type": "markdown",
   "metadata": {},
   "source": [
    "### 透過隱含索引的取值"
   ]
  },
  {
   "cell_type": "code",
   "execution_count": 30,
   "metadata": {},
   "outputs": [
    {
     "name": "stdout",
     "output_type": "stream",
     "text": [
      "A    7\n",
      "B    7\n",
      "Name: a, dtype: int32\n",
      "----------\n",
      "   A  B\n",
      "a  7  7\n"
     ]
    }
   ],
   "source": [
    "print(pandas1.iloc[0]) \n",
    "print('-'*10)\n",
    "print(pandas1.iloc[0:1]) "
   ]
  },
  {
   "cell_type": "markdown",
   "metadata": {},
   "source": [
    "### 透過自訂的索引的取值"
   ]
  },
  {
   "cell_type": "code",
   "execution_count": 31,
   "metadata": {},
   "outputs": [
    {
     "name": "stdout",
     "output_type": "stream",
     "text": [
      "A    7\n",
      "B    7\n",
      "Name: a, dtype: int32\n",
      "----------\n",
      "   A  B\n",
      "a  7  7\n",
      "b  0  2\n"
     ]
    }
   ],
   "source": [
    "print(pandas1.loc['a']) \n",
    "print('-'*10)\n",
    "print(pandas1.loc['a':'b']) "
   ]
  },
  {
   "cell_type": "markdown",
   "metadata": {},
   "source": [
    "### 透過混合的索引的取值 (可能棄用的用法)"
   ]
  },
  {
   "cell_type": "code",
   "execution_count": 40,
   "metadata": {},
   "outputs": [
    {
     "name": "stdout",
     "output_type": "stream",
     "text": [
      "7\n",
      "7\n"
     ]
    },
    {
     "name": "stderr",
     "output_type": "stream",
     "text": [
      "C:\\Users\\User\\Anaconda3\\lib\\site-packages\\ipykernel_launcher.py:1: DeprecationWarning: \n",
      ".ix is deprecated. Please use\n",
      ".loc for label based indexing or\n",
      ".iloc for positional indexing\n",
      "\n",
      "See the documentation here:\n",
      "http://pandas.pydata.org/pandas-docs/stable/indexing.html#ix-indexer-is-deprecated\n",
      "  \"\"\"Entry point for launching an IPython kernel.\n",
      "C:\\Users\\User\\Anaconda3\\lib\\site-packages\\ipykernel_launcher.py:2: DeprecationWarning: \n",
      ".ix is deprecated. Please use\n",
      ".loc for label based indexing or\n",
      ".iloc for positional indexing\n",
      "\n",
      "See the documentation here:\n",
      "http://pandas.pydata.org/pandas-docs/stable/indexing.html#ix-indexer-is-deprecated\n",
      "  \n"
     ]
    }
   ],
   "source": [
    "print(pandas1.ix['a',0]) \n",
    "print(pandas1.ix[0,'A']) "
   ]
  },
  {
   "cell_type": "markdown",
   "metadata": {},
   "source": [
    "### 欄名也是DataFrame的屬性"
   ]
  },
  {
   "cell_type": "code",
   "execution_count": 32,
   "metadata": {},
   "outputs": [
    {
     "name": "stdout",
     "output_type": "stream",
     "text": [
      "a    7\n",
      "b    0\n",
      "c    2\n",
      "Name: A, dtype: int32\n",
      "----------\n",
      "a    7\n",
      "b    0\n",
      "c    2\n",
      "Name: A, dtype: int32\n",
      "----------\n",
      "是否相等:  True\n"
     ]
    }
   ],
   "source": [
    "print(pandas1['A'])\n",
    "print('-'*10)\n",
    "print(pandas1.A) \n",
    "print('-'*10)\n",
    "print('是否相等: ',pandas1.A is pandas1['A']) "
   ]
  },
  {
   "cell_type": "markdown",
   "metadata": {},
   "source": [
    "### 二維陣列的轉置與Numpy相同"
   ]
  },
  {
   "cell_type": "code",
   "execution_count": 33,
   "metadata": {},
   "outputs": [
    {
     "name": "stdout",
     "output_type": "stream",
     "text": [
      "   A  B\n",
      "a  7  7\n",
      "b  0  2\n",
      "c  2  5\n",
      "----------\n",
      "   a  b  c\n",
      "A  7  0  2\n",
      "B  7  2  5\n"
     ]
    }
   ],
   "source": [
    "pandas2=pandas1.T\n",
    "print(pandas1)\n",
    "print('-'*10)\n",
    "print(pandas2)"
   ]
  },
  {
   "cell_type": "markdown",
   "metadata": {},
   "source": [
    "### Numpy方法可以對DataFrame作用"
   ]
  },
  {
   "cell_type": "code",
   "execution_count": 42,
   "metadata": {},
   "outputs": [
    {
     "name": "stdout",
     "output_type": "stream",
     "text": [
      "   A  B\n",
      "a  7  7\n",
      "b  0  2\n",
      "c  2  5\n",
      "----------\n",
      "   A  B\n",
      "a  9  9\n",
      "b  2  4\n",
      "c  4  7\n"
     ]
    }
   ],
   "source": [
    "pandas2=np.add(pandas1,2)\n",
    "print(pandas1)\n",
    "print('-'*10)\n",
    "print(pandas2)"
   ]
  }
 ],
 "metadata": {
  "kernelspec": {
   "display_name": "Python 3",
   "language": "python",
   "name": "python3"
  },
  "language_info": {
   "codemirror_mode": {
    "name": "ipython",
    "version": 3
   },
   "file_extension": ".py",
   "mimetype": "text/x-python",
   "name": "python",
   "nbconvert_exporter": "python",
   "pygments_lexer": "ipython3",
   "version": "3.7.3"
  }
 },
 "nbformat": 4,
 "nbformat_minor": 2
}
