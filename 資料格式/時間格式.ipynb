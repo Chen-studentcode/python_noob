{
 "cells": [
  {
   "cell_type": "markdown",
   "metadata": {},
   "source": [
    "### 時間格式的處理"
   ]
  },
  {
   "cell_type": "code",
   "execution_count": 1,
   "metadata": {},
   "outputs": [],
   "source": [
    "from datetime import datetime #python內建的函式庫\n",
    "from dateutil import parser #python內建的函式庫\n",
    "import time #python內建的函式庫"
   ]
  },
  {
   "cell_type": "markdown",
   "metadata": {},
   "source": [
    "### 製作日期格式:\n",
    "|常用格式:         |                |\n",
    "|----------------|----------------|\n",
    "|%Y 四位數年分    |%y 兩位數年分    |\n",
    "|%m 兩位數月份    |%d 為兩位份日    |\n",
    "|%H 24小時制的'時'|%I 24小時制的'時'|\n",
    "|%b 月份的名稱    |例如'Sep'        |\n",
    " "
   ]
  },
  {
   "cell_type": "code",
   "execution_count": 2,
   "metadata": {},
   "outputs": [
    {
     "name": "stdout",
     "output_type": "stream",
     "text": [
      "2019-07-10 00:00:00\n",
      "--------------------\n",
      "2017-09-08 00:00:00\n",
      "--------------------\n",
      "time.struct_time(tm_year=2017, tm_mon=9, tm_mday=8, tm_hour=0, tm_min=0, tm_sec=0, tm_wday=4, tm_yday=251, tm_isdst=-1)\n",
      "09 08 2017 12 08\n"
     ]
    }
   ],
   "source": [
    "date1=datetime(year=2019, month=7, day=10)\n",
    "print(date1)\n",
    "print('-'*20)\n",
    "date1 = datetime.strptime('2017-09-08','%Y-%m-%d')\n",
    "print(date1)\n",
    "print('-'*20)\n",
    "date1 = time.strptime('2017-09-08','%Y-%m-%d')\n",
    "date2 = time.strftime('%m %d %Y %I %d',date1)\n",
    "print(date1)\n",
    "print(date2)"
   ]
  },
  {
   "cell_type": "markdown",
   "metadata": {},
   "source": [
    "### 文字轉日期:"
   ]
  },
  {
   "cell_type": "code",
   "execution_count": 3,
   "metadata": {},
   "outputs": [
    {
     "name": "stdout",
     "output_type": "stream",
     "text": [
      "2019-07-10 00:00:00\n",
      "2019-07-11 09:00:00\n"
     ]
    }
   ],
   "source": [
    "date2 = parser.parse(\"10th of July, 2019\")\n",
    "date3 = parser.parse(\"201907110900\")\n",
    "print(date2)\n",
    "print(date3)"
   ]
  },
  {
   "cell_type": "markdown",
   "metadata": {},
   "source": [
    "### 透過Numpy製作時間格式:"
   ]
  },
  {
   "cell_type": "code",
   "execution_count": 4,
   "metadata": {},
   "outputs": [
    {
     "name": "stdout",
     "output_type": "stream",
     "text": [
      "2019-09-09\n",
      "--------------------\n",
      "2019-09-01\n"
     ]
    }
   ],
   "source": [
    "import numpy as np\n",
    "date1 = np.array('2019-09-09', dtype=np.datetime64)\n",
    "print(date1)\n",
    "print('-'*20)\n",
    "date1=np.datetime64('2019-09-01')\n",
    "print(date1)"
   ]
  },
  {
   "cell_type": "code",
   "execution_count": 5,
   "metadata": {},
   "outputs": [
    {
     "name": "stdout",
     "output_type": "stream",
     "text": [
      "['2019-09-01' '2019-09-02' '2019-09-03' '2019-09-04' '2019-09-05'\n",
      " '2019-09-06' '2019-09-07' '2019-09-08' '2019-09-09' '2019-09-10'\n",
      " '2019-09-11' '2019-09-12' '2019-09-13' '2019-09-14' '2019-09-15'\n",
      " '2019-09-16' '2019-09-17' '2019-09-18' '2019-09-19' '2019-09-20'\n",
      " '2019-09-21' '2019-09-22' '2019-09-23' '2019-09-24' '2019-09-25']\n"
     ]
    }
   ],
   "source": [
    "date1=date1 + np.arange(25)\n",
    "print(date1)"
   ]
  },
  {
   "cell_type": "markdown",
   "metadata": {},
   "source": [
    "### 透過Pandas製作時間格式:"
   ]
  },
  {
   "cell_type": "code",
   "execution_count": 6,
   "metadata": {},
   "outputs": [
    {
     "data": {
      "text/plain": [
       "Timestamp('2019-09-01 00:00:00')"
      ]
     },
     "execution_count": 6,
     "metadata": {},
     "output_type": "execute_result"
    }
   ],
   "source": [
    "import pandas as pd\n",
    "date1 = pd.to_datetime(\"1th of sep, 2019\")\n",
    "date1"
   ]
  },
  {
   "cell_type": "code",
   "execution_count": 7,
   "metadata": {},
   "outputs": [
    {
     "name": "stdout",
     "output_type": "stream",
     "text": [
      "DatetimeIndex(['2019-09-01', '2019-09-02', '2019-09-03', '2019-09-04',\n",
      "               '2019-09-05', '2019-09-06', '2019-09-07', '2019-09-08',\n",
      "               '2019-09-09', '2019-09-10', '2019-09-11', '2019-09-12',\n",
      "               '2019-09-13', '2019-09-14', '2019-09-15', '2019-09-16',\n",
      "               '2019-09-17', '2019-09-18', '2019-09-19', '2019-09-20',\n",
      "               '2019-09-21', '2019-09-22', '2019-09-23', '2019-09-24',\n",
      "               '2019-09-25'],\n",
      "              dtype='datetime64[ns]', freq=None)\n"
     ]
    }
   ],
   "source": [
    "date1=date1 + pd.to_timedelta(np.arange(25), 'D')\n",
    "print(date1)"
   ]
  }
 ],
 "metadata": {
  "kernelspec": {
   "display_name": "Python 3",
   "language": "python",
   "name": "python3"
  },
  "language_info": {
   "codemirror_mode": {
    "name": "ipython",
    "version": 3
   },
   "file_extension": ".py",
   "mimetype": "text/x-python",
   "name": "python",
   "nbconvert_exporter": "python",
   "pygments_lexer": "ipython3",
   "version": "3.7.3"
  }
 },
 "nbformat": 4,
 "nbformat_minor": 2
}
