{
 "cells": [
  {
   "cell_type": "code",
   "execution_count": 1,
   "metadata": {},
   "outputs": [],
   "source": [
    "import pandas as pd #載入pandas\n",
    "import numpy as np #載入numpy"
   ]
  },
  {
   "cell_type": "markdown",
   "metadata": {},
   "source": [
    "### 將兩個字典組成DataFrame格式   *D和F需大寫"
   ]
  },
  {
   "cell_type": "code",
   "execution_count": 2,
   "metadata": {},
   "outputs": [
    {
     "name": "stdout",
     "output_type": "stream",
     "text": [
      "       age  height\n",
      "John    20     180\n",
      "Mary    21     177\n",
      "May     18     178\n",
      "Scott   25     167\n"
     ]
    }
   ],
   "source": [
    "dict1={'May':18,'Scott':25,'Mary':21,'John':20}\n",
    "dict2={'May':178,'Scott':167,'Mary':177,'John':180}\n",
    "pandas1=pd.DataFrame({'age':dict1,'height':dict2})\n",
    "print(pandas1)"
   ]
  },
  {
   "cell_type": "code",
   "execution_count": 7,
   "metadata": {},
   "outputs": [
    {
     "name": "stdout",
     "output_type": "stream",
     "text": [
      "列索引:  Index(['John', 'Mary', 'May', 'Scott'], dtype='object')\n",
      "欄索引:  Index(['age', 'height'], dtype='object')\n",
      "值: \n",
      " [[ 20 180]\n",
      " [ 21 177]\n",
      " [ 18 178]\n",
      " [ 25 167]]\n"
     ]
    }
   ],
   "source": [
    "print('列索引: ',pandas1.index)\n",
    "print('欄索引: ',pandas1.columns)\n",
    "print('值: \\n',pandas1.values)"
   ]
  },
  {
   "cell_type": "markdown",
   "metadata": {},
   "source": [
    "### DataFrame取值的方式:"
   ]
  },
  {
   "cell_type": "code",
   "execution_count": 11,
   "metadata": {},
   "outputs": [
    {
     "name": "stdout",
     "output_type": "stream",
     "text": [
      "John     20\n",
      "Mary     21\n",
      "May      18\n",
      "Scott    25\n",
      "Name: age, dtype: int64\n",
      "\n",
      "21\n"
     ]
    }
   ],
   "source": [
    "print(pandas1['age'])  #取整欄\n",
    "print()\n",
    "print(pandas1['age']['Mary']) #取值"
   ]
  },
  {
   "cell_type": "markdown",
   "metadata": {},
   "source": [
    "### Numpy二維取值的方式:"
   ]
  },
  {
   "cell_type": "code",
   "execution_count": 24,
   "metadata": {},
   "outputs": [
    {
     "name": "stdout",
     "output_type": "stream",
     "text": [
      "[[1 3 8]\n",
      " [1 7 8]\n",
      " [3 2 0]\n",
      " [7 3 3]]\n",
      "\n",
      "[1 3 8]\n",
      "\n",
      "8\n"
     ]
    }
   ],
   "source": [
    "numpy1=np.random.randint(0,9,(4,3))\n",
    "print(numpy1)\n",
    "print()\n",
    "print(numpy1[0])  #取列\n",
    "print()\n",
    "print(numpy1[0][2]) #取值"
   ]
  },
  {
   "cell_type": "markdown",
   "metadata": {},
   "source": [
    "### 利用Numpy製作DataFrame"
   ]
  },
  {
   "cell_type": "code",
   "execution_count": 27,
   "metadata": {},
   "outputs": [
    {
     "name": "stdout",
     "output_type": "stream",
     "text": [
      "   a  b  c\n",
      "A  7  6  7\n",
      "B  0  7  5\n",
      "C  6  4  6\n",
      "D  6  1  3\n",
      "E  5  8  1\n"
     ]
    }
   ],
   "source": [
    "pandas2=pd.DataFrame(np.random.randint(0,9,(5,3)),columns=['a','b','c'],index=['A','B','C','D','E'])\n",
    "print(pandas2)"
   ]
  },
  {
   "cell_type": "markdown",
   "metadata": {},
   "source": [
    "### DataFrame的.index 也是陣列\n",
    "但index不允許直接賦值"
   ]
  },
  {
   "cell_type": "code",
   "execution_count": 28,
   "metadata": {},
   "outputs": [
    {
     "name": "stdout",
     "output_type": "stream",
     "text": [
      "Index(['B', 'C'], dtype='object')\n"
     ]
    }
   ],
   "source": [
    "pandas_index=pandas2.index[1:3]\n",
    "print(pandas_index)"
   ]
  },
  {
   "cell_type": "markdown",
   "metadata": {},
   "source": [
    "### DataFrame的Index 也有集合的特性 ※這裡的i為大寫"
   ]
  },
  {
   "cell_type": "code",
   "execution_count": 31,
   "metadata": {},
   "outputs": [
    {
     "name": "stdout",
     "output_type": "stream",
     "text": [
      "Int64Index([1, 5, 9, 13], dtype='int64')\n",
      "Int64Index([1, 2, 3, 4, 5, 6, 7, 9, 11, 13], dtype='int64')\n",
      "Int64Index([2, 3, 4, 6, 7, 11], dtype='int64')\n"
     ]
    }
   ],
   "source": [
    "pdi1=pd.Index([1,3,5,7,9,11,13])\n",
    "pdi2=pd.Index([1,2,5,4,9,6,13])\n",
    "print(pdi1 & pdi2) #有重疊的值\n",
    "print(pdi1 | pdi2) #所有值\n",
    "print(pdi1 ^ pdi2) #不重疊的值"
   ]
  }
 ],
 "metadata": {
  "kernelspec": {
   "display_name": "Python 3",
   "language": "python",
   "name": "python3"
  },
  "language_info": {
   "codemirror_mode": {
    "name": "ipython",
    "version": 3
   },
   "file_extension": ".py",
   "mimetype": "text/x-python",
   "name": "python",
   "nbconvert_exporter": "python",
   "pygments_lexer": "ipython3",
   "version": "3.7.3"
  }
 },
 "nbformat": 4,
 "nbformat_minor": 2
}
