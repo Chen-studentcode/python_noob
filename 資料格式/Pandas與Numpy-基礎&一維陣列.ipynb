{
 "cells": [
  {
   "cell_type": "code",
   "execution_count": 2,
   "metadata": {},
   "outputs": [],
   "source": [
    "import pandas as pd #載入pandas\n",
    "import numpy as np #載入numpy"
   ]
  },
  {
   "cell_type": "markdown",
   "metadata": {},
   "source": [
    "#### 先設定兩種一維陣列來示範特性:\n",
    "兩種資料的類型不相同:"
   ]
  },
  {
   "cell_type": "code",
   "execution_count": 7,
   "metadata": {},
   "outputs": [
    {
     "name": "stdout",
     "output_type": "stream",
     "text": [
      "0    0.5\n",
      "1    1.0\n",
      "2    1.5\n",
      "3    2.0\n",
      "4    3.0\n",
      "5    5.0\n",
      "dtype: float64 <class 'pandas.core.series.Series'>\n",
      "[0.5 1.  1.5 2.  3.  5. ] \n",
      " <class 'numpy.ndarray'>\n"
     ]
    }
   ],
   "source": [
    "pdata=pd.Series([0.5,1,1.5,2,3,5])\n",
    "ndata=np.array([0.5,1,1.5,2,3,5])\n",
    "\n",
    "print(pdata,type(pdata))\n",
    "print(ndata,'\\n',type(ndata))"
   ]
  },
  {
   "cell_type": "markdown",
   "metadata": {},
   "source": [
    "常見的屬性:"
   ]
  },
  {
   "cell_type": "code",
   "execution_count": 17,
   "metadata": {},
   "outputs": [
    {
     "name": "stdout",
     "output_type": "stream",
     "text": [
      "維度數量:  2\n",
      "每個維度大小:  (2, 3)\n",
      "整個陣列的大小:  6\n",
      "\n",
      "pandas值:  [0.5 1.  1.5 2.  3.  5. ]\n",
      "pandas索引:  Index(['a', 'b', 'c', 'd', '99', 98], dtype='object')\n"
     ]
    }
   ],
   "source": [
    "ndata2=np.array([[0.5,1,1.5],[2,3,5]])\n",
    "print('維度數量: ',ndata2.ndim)\n",
    "print('每個維度大小: ',ndata2.shape)\n",
    "print('整個陣列的大小: ',ndata2.size)\n",
    "print()\n",
    "print('pandas值: ',pdata.values)\n",
    "print('pandas索引: ',pdata.index)"
   ]
  },
  {
   "cell_type": "markdown",
   "metadata": {},
   "source": [
    "pandas有明確的索引，但numpy看起來只是一個陣列<br>\n",
    "#### 但兩者的存取方式類似:"
   ]
  },
  {
   "cell_type": "code",
   "execution_count": 8,
   "metadata": {},
   "outputs": [
    {
     "name": "stdout",
     "output_type": "stream",
     "text": [
      "0.5\n",
      "0.5\n"
     ]
    }
   ],
   "source": [
    "print(pdata[0])\n",
    "print(ndata[0])"
   ]
  },
  {
   "cell_type": "markdown",
   "metadata": {},
   "source": [
    "#### pands可以指定索引並取用\n",
    "可以把它看作一個較為特殊的字典"
   ]
  },
  {
   "cell_type": "code",
   "execution_count": 19,
   "metadata": {},
   "outputs": [
    {
     "name": "stdout",
     "output_type": "stream",
     "text": [
      "a     0.5\n",
      "b     1.0\n",
      "c     1.5\n",
      "d     2.0\n",
      "99    3.0\n",
      "98    5.3\n",
      "dtype: float64\n",
      "\n",
      "0.5\n",
      "5.3\n"
     ]
    }
   ],
   "source": [
    "pdata2=pd.Series([0.5,1,1.5,2,3,5.3],index=['a','b','c','d','99',98])\n",
    "print(pdata2)\n",
    "print()\n",
    "print(pdata2['a'])\n",
    "print(pdata2[98])"
   ]
  },
  {
   "cell_type": "markdown",
   "metadata": {},
   "source": [
    "#### pands除了字典的取值，還可一做矩陣的切片"
   ]
  },
  {
   "cell_type": "code",
   "execution_count": 22,
   "metadata": {},
   "outputs": [
    {
     "name": "stdout",
     "output_type": "stream",
     "text": [
      "a    123\n",
      "b    456\n",
      "c    789\n",
      "d    555\n",
      "e    999\n",
      "dtype: int64\n",
      "\n",
      "b    456\n",
      "c    789\n",
      "d    555\n",
      "dtype: int64\n"
     ]
    }
   ],
   "source": [
    "dict1={'a':123,'b':456,'c':789,'d':555,'e':999}\n",
    "pdata3=pd.Series(dict1)\n",
    "print(pdata3)\n",
    "print()\n",
    "print(pdata3['b':'d'])"
   ]
  }
 ],
 "metadata": {
  "kernelspec": {
   "display_name": "Python 3",
   "language": "python",
   "name": "python3"
  },
  "language_info": {
   "codemirror_mode": {
    "name": "ipython",
    "version": 3
   },
   "file_extension": ".py",
   "mimetype": "text/x-python",
   "name": "python",
   "nbconvert_exporter": "python",
   "pygments_lexer": "ipython3",
   "version": "3.7.3"
  }
 },
 "nbformat": 4,
 "nbformat_minor": 2
}
